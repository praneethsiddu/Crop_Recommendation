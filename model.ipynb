{
 "cells": [
  {
   "cell_type": "markdown",
   "metadata": {
    "papermill": {
     "duration": 0.029505,
     "end_time": "2020-12-25T17:43:02.223354",
     "exception": false,
     "start_time": "2020-12-25T17:43:02.193849",
     "status": "completed"
    },
    "tags": []
   },
   "source": [
    "# CROP RECOMMENDATION SYSTEM "
   ]
  },
  {
   "cell_type": "markdown",
   "metadata": {
    "papermill": {
     "duration": 0.027232,
     "end_time": "2020-12-25T17:43:02.278743",
     "exception": false,
     "start_time": "2020-12-25T17:43:02.251511",
     "status": "completed"
    },
    "tags": []
   },
   
  },
  {
   "cell_type": "code",
   "execution_count": 5,
   "metadata": {
    "execution": {
     "iopub.execute_input": "2020-12-25T17:43:02.667839Z",
     "iopub.status.busy": "2020-12-25T17:43:02.667308Z",
     "iopub.status.idle": "2020-12-25T17:43:03.833552Z",
     "shell.execute_reply": "2020-12-25T17:43:03.833971Z"
    },
    "papermill": {
     "duration": 1.19661,
     "end_time": "2020-12-25T17:43:03.834142",
     "exception": false,
     "start_time": "2020-12-25T17:43:02.637532",
     "status": "completed"
    },
    "tags": []
   },
   "outputs": [],
   "source": [
    "# Importing libraries\n",
    "\n",
    "from __future__ import print_function\n",
    "import pandas as pd\n",
    "import numpy as np\n",
    "import matplotlib.pyplot as plt\n",
    "import seaborn as sns\n",
    "from sklearn.metrics import classification_report\n",
    "from sklearn import metrics\n",
    "from sklearn import tree\n",
    "import warnings\n",
    "warnings.filterwarnings('ignore')"
   ]
  },
  {
   "cell_type": "code",
   "execution_count": 6,
   "metadata": {
    "execution": {
     "iopub.execute_input": "2020-12-25T17:43:03.904908Z",
     "iopub.status.busy": "2020-12-25T17:43:03.904244Z",
     "iopub.status.idle": "2020-12-25T17:43:03.923799Z",
     "shell.execute_reply": "2020-12-25T17:43:03.923260Z"
    },
    "papermill": {
     "duration": 0.061182,
     "end_time": "2020-12-25T17:43:03.923887",
     "exception": false,
     "start_time": "2020-12-25T17:43:03.862705",
     "status": "completed"
    },
    "tags": []
   },
   "outputs": [],
   "source": [
    "df = pd.read_csv('Crop_recommendation.csv')"
   ]
  },
  {
   "cell_type": "code",
   "execution_count": 7,
   "metadata": {
    "execution": {
     "iopub.execute_input": "2020-12-25T17:43:03.994102Z",
     "iopub.status.busy": "2020-12-25T17:43:03.987500Z",
     "iopub.status.idle": "2020-12-25T17:43:04.003587Z",
     "shell.execute_reply": "2020-12-25T17:43:04.003999Z"
    },
    "papermill": {
     "duration": 0.052002,
     "end_time": "2020-12-25T17:43:04.004101",
     "exception": false,
     "start_time": "2020-12-25T17:43:03.952099",
     "status": "completed"
    },
    "tags": []
   },
   "outputs": [
    {
     "data": {
      "text/html": [
       "<div>\n",
       "<style scoped>\n",
       "    .dataframe tbody tr th:only-of-type {\n",
       "        vertical-align: middle;\n",
       "    }\n",
       "\n",
       "    .dataframe tbody tr th {\n",
       "        vertical-align: top;\n",
       "    }\n",
       "\n",
       "    .dataframe thead th {\n",
       "        text-align: right;\n",
       "    }\n",
       "</style>\n",
       "<table border=\"1\" class=\"dataframe\">\n",
       "  <thead>\n",
       "    <tr style=\"text-align: right;\">\n",
       "      <th></th>\n",
       "      <th>N</th>\n",
       "      <th>P</th>\n",
       "      <th>K</th>\n",
       "      <th>temperature</th>\n",
       "      <th>humidity</th>\n",
       "      <th>ph</th>\n",
       "      <th>rainfall</th>\n",
       "      <th>label</th>\n",
       "    </tr>\n",
       "  </thead>\n",
       "  <tbody>\n",
       "    <tr>\n",
       "      <th>0</th>\n",
       "      <td>90</td>\n",
       "      <td>42</td>\n",
       "      <td>43</td>\n",
       "      <td>20.879744</td>\n",
       "      <td>82.002744</td>\n",
       "      <td>6.502985</td>\n",
       "      <td>202.935536</td>\n",
       "      <td>rice</td>\n",
       "    </tr>\n",
       "    <tr>\n",
       "      <th>1</th>\n",
       "      <td>85</td>\n",
       "      <td>58</td>\n",
       "      <td>41</td>\n",
       "      <td>21.770462</td>\n",
       "      <td>80.319644</td>\n",
       "      <td>7.038096</td>\n",
       "      <td>226.655537</td>\n",
       "      <td>rice</td>\n",
       "    </tr>\n",
       "    <tr>\n",
       "      <th>2</th>\n",
       "      <td>60</td>\n",
       "      <td>55</td>\n",
       "      <td>44</td>\n",
       "      <td>23.004459</td>\n",
       "      <td>82.320763</td>\n",
       "      <td>7.840207</td>\n",
       "      <td>263.964248</td>\n",
       "      <td>rice</td>\n",
       "    </tr>\n",
       "    <tr>\n",
       "      <th>3</th>\n",
       "      <td>74</td>\n",
       "      <td>35</td>\n",
       "      <td>40</td>\n",
       "      <td>26.491096</td>\n",
       "      <td>80.158363</td>\n",
       "      <td>6.980401</td>\n",
       "      <td>242.864034</td>\n",
       "      <td>rice</td>\n",
       "    </tr>\n",
       "    <tr>\n",
       "      <th>4</th>\n",
       "      <td>78</td>\n",
       "      <td>42</td>\n",
       "      <td>42</td>\n",
       "      <td>20.130175</td>\n",
       "      <td>81.604873</td>\n",
       "      <td>7.628473</td>\n",
       "      <td>262.717340</td>\n",
       "      <td>rice</td>\n",
       "    </tr>\n",
       "  </tbody>\n",
       "</table>\n",
       "</div>"
      ],
      "text/plain": [
       "    N   P   K  temperature   humidity        ph    rainfall label\n",
       "0  90  42  43    20.879744  82.002744  6.502985  202.935536  rice\n",
       "1  85  58  41    21.770462  80.319644  7.038096  226.655537  rice\n",
       "2  60  55  44    23.004459  82.320763  7.840207  263.964248  rice\n",
       "3  74  35  40    26.491096  80.158363  6.980401  242.864034  rice\n",
       "4  78  42  42    20.130175  81.604873  7.628473  262.717340  rice"
      ]
     },
     "execution_count": 7,
     "metadata": {},
     "output_type": "execute_result"
    }
   ],
   "source": [
    "df.head()"
   ]
  },
  {
   "cell_type": "code",
   "execution_count": 8,
   "metadata": {
    "execution": {
     "iopub.execute_input": "2020-12-25T17:43:04.063734Z",
     "iopub.status.busy": "2020-12-25T17:43:04.063222Z",
     "iopub.status.idle": "2020-12-25T17:43:04.072912Z",
     "shell.execute_reply": "2020-12-25T17:43:04.073302Z"
    },
    "papermill": {
     "duration": 0.040534,
     "end_time": "2020-12-25T17:43:04.073406",
     "exception": false,
     "start_time": "2020-12-25T17:43:04.032872",
     "status": "completed"
    },
    "tags": []
   },
   "outputs": [
    {
     "data": {
      "text/html": [
       "<div>\n",
       "<style scoped>\n",
       "    .dataframe tbody tr th:only-of-type {\n",
       "        vertical-align: middle;\n",
       "    }\n",
       "\n",
       "    .dataframe tbody tr th {\n",
       "        vertical-align: top;\n",
       "    }\n",
       "\n",
       "    .dataframe thead th {\n",
       "        text-align: right;\n",
       "    }\n",
       "</style>\n",
       "<table border=\"1\" class=\"dataframe\">\n",
       "  <thead>\n",
       "    <tr style=\"text-align: right;\">\n",
       "      <th></th>\n",
       "      <th>N</th>\n",
       "      <th>P</th>\n",
       "      <th>K</th>\n",
       "      <th>temperature</th>\n",
       "      <th>humidity</th>\n",
       "      <th>ph</th>\n",
       "      <th>rainfall</th>\n",
       "      <th>label</th>\n",
       "    </tr>\n",
       "  </thead>\n",
       "  <tbody>\n",
       "    <tr>\n",
       "      <th>0</th>\n",
       "      <td>False</td>\n",
       "      <td>False</td>\n",
       "      <td>False</td>\n",
       "      <td>False</td>\n",
       "      <td>False</td>\n",
       "      <td>False</td>\n",
       "      <td>False</td>\n",
       "      <td>False</td>\n",
       "    </tr>\n",
       "    <tr>\n",
       "      <th>1</th>\n",
       "      <td>False</td>\n",
       "      <td>False</td>\n",
       "      <td>False</td>\n",
       "      <td>False</td>\n",
       "      <td>False</td>\n",
       "      <td>False</td>\n",
       "      <td>False</td>\n",
       "      <td>False</td>\n",
       "    </tr>\n",
       "    <tr>\n",
       "      <th>2</th>\n",
       "      <td>False</td>\n",
       "      <td>False</td>\n",
       "      <td>False</td>\n",
       "      <td>False</td>\n",
       "      <td>False</td>\n",
       "      <td>False</td>\n",
       "      <td>False</td>\n",
       "      <td>False</td>\n",
       "    </tr>\n",
       "    <tr>\n",
       "      <th>3</th>\n",
       "      <td>False</td>\n",
       "      <td>False</td>\n",
       "      <td>False</td>\n",
       "      <td>False</td>\n",
       "      <td>False</td>\n",
       "      <td>False</td>\n",
       "      <td>False</td>\n",
       "      <td>False</td>\n",
       "    </tr>\n",
       "    <tr>\n",
       "      <th>4</th>\n",
       "      <td>False</td>\n",
       "      <td>False</td>\n",
       "      <td>False</td>\n",
       "      <td>False</td>\n",
       "      <td>False</td>\n",
       "      <td>False</td>\n",
       "      <td>False</td>\n",
       "      <td>False</td>\n",
       "    </tr>\n",
       "    <tr>\n",
       "      <th>...</th>\n",
       "      <td>...</td>\n",
       "      <td>...</td>\n",
       "      <td>...</td>\n",
       "      <td>...</td>\n",
       "      <td>...</td>\n",
       "      <td>...</td>\n",
       "      <td>...</td>\n",
       "      <td>...</td>\n",
       "    </tr>\n",
       "    <tr>\n",
       "      <th>2195</th>\n",
       "      <td>False</td>\n",
       "      <td>False</td>\n",
       "      <td>False</td>\n",
       "      <td>False</td>\n",
       "      <td>False</td>\n",
       "      <td>False</td>\n",
       "      <td>False</td>\n",
       "      <td>False</td>\n",
       "    </tr>\n",
       "    <tr>\n",
       "      <th>2196</th>\n",
       "      <td>False</td>\n",
       "      <td>False</td>\n",
       "      <td>False</td>\n",
       "      <td>False</td>\n",
       "      <td>False</td>\n",
       "      <td>False</td>\n",
       "      <td>False</td>\n",
       "      <td>False</td>\n",
       "    </tr>\n",
       "    <tr>\n",
       "      <th>2197</th>\n",
       "      <td>False</td>\n",
       "      <td>False</td>\n",
       "      <td>False</td>\n",
       "      <td>False</td>\n",
       "      <td>False</td>\n",
       "      <td>False</td>\n",
       "      <td>False</td>\n",
       "      <td>False</td>\n",
       "    </tr>\n",
       "    <tr>\n",
       "      <th>2198</th>\n",
       "      <td>False</td>\n",
       "      <td>False</td>\n",
       "      <td>False</td>\n",
       "      <td>False</td>\n",
       "      <td>False</td>\n",
       "      <td>False</td>\n",
       "      <td>False</td>\n",
       "      <td>False</td>\n",
       "    </tr>\n",
       "    <tr>\n",
       "      <th>2199</th>\n",
       "      <td>False</td>\n",
       "      <td>False</td>\n",
       "      <td>False</td>\n",
       "      <td>False</td>\n",
       "      <td>False</td>\n",
       "      <td>False</td>\n",
       "      <td>False</td>\n",
       "      <td>False</td>\n",
       "    </tr>\n",
       "  </tbody>\n",
       "</table>\n",
       "<p>2200 rows × 8 columns</p>\n",
       "</div>"
      ],
      "text/plain": [
       "          N      P      K  temperature  humidity     ph  rainfall  label\n",
       "0     False  False  False        False     False  False     False  False\n",
       "1     False  False  False        False     False  False     False  False\n",
       "2     False  False  False        False     False  False     False  False\n",
       "3     False  False  False        False     False  False     False  False\n",
       "4     False  False  False        False     False  False     False  False\n",
       "...     ...    ...    ...          ...       ...    ...       ...    ...\n",
       "2195  False  False  False        False     False  False     False  False\n",
       "2196  False  False  False        False     False  False     False  False\n",
       "2197  False  False  False        False     False  False     False  False\n",
       "2198  False  False  False        False     False  False     False  False\n",
       "2199  False  False  False        False     False  False     False  False\n",
       "\n",
       "[2200 rows x 8 columns]"
      ]
     },
     "execution_count": 8,
     "metadata": {},
     "output_type": "execute_result"
    }
   ],
   "source": [
    "df.isnull()"
   ]
  },
  {
   "cell_type": "code",
   "execution_count": 9,
   "metadata": {
    "execution": {
     "iopub.execute_input": "2020-12-25T17:43:04.134317Z",
     "iopub.status.busy": "2020-12-25T17:43:04.133783Z",
     "iopub.status.idle": "2020-12-25T17:43:04.138137Z",
     "shell.execute_reply": "2020-12-25T17:43:04.138570Z"
    },
    "papermill": {
     "duration": 0.036159,
     "end_time": "2020-12-25T17:43:04.138677",
     "exception": false,
     "start_time": "2020-12-25T17:43:04.102518",
     "status": "completed"
    },
    "tags": []
   },
   "outputs": [
    {
     "data": {
      "text/plain": [
       "17600"
      ]
     },
     "execution_count": 9,
     "metadata": {},
     "output_type": "execute_result"
    }
   ],
   "source": [
    "df.size"
   ]
  },
  {
   "cell_type": "code",
   "execution_count": 10,
   "metadata": {
    "execution": {
     "iopub.execute_input": "2020-12-25T17:43:04.202095Z",
     "iopub.status.busy": "2020-12-25T17:43:04.201299Z",
     "iopub.status.idle": "2020-12-25T17:43:04.204391Z",
     "shell.execute_reply": "2020-12-25T17:43:04.203867Z"
    },
    "papermill": {
     "duration": 0.036024,
     "end_time": "2020-12-25T17:43:04.204476",
     "exception": false,
     "start_time": "2020-12-25T17:43:04.168452",
     "status": "completed"
    },
    "tags": []
   },
   "outputs": [
    {
     "data": {
      "text/plain": [
       "(2200, 8)"
      ]
     },
     "execution_count": 10,
     "metadata": {},
     "output_type": "execute_result"
    }
   ],
   "source": [
    "df.shape"
   ]
  },
  {
   "cell_type": "code",
   "execution_count": 11,
   "metadata": {
    "execution": {
     "iopub.execute_input": "2020-12-25T17:43:04.268677Z",
     "iopub.status.busy": "2020-12-25T17:43:04.268159Z",
     "iopub.status.idle": "2020-12-25T17:43:04.271432Z",
     "shell.execute_reply": "2020-12-25T17:43:04.271854Z"
    },
    "papermill": {
     "duration": 0.037048,
     "end_time": "2020-12-25T17:43:04.271958",
     "exception": false,
     "start_time": "2020-12-25T17:43:04.234910",
     "status": "completed"
    },
    "tags": []
   },
   "outputs": [
    {
     "data": {
      "text/plain": [
       "Index(['N', 'P', 'K', 'temperature', 'humidity', 'ph', 'rainfall', 'label'], dtype='object')"
      ]
     },
     "execution_count": 11,
     "metadata": {},
     "output_type": "execute_result"
    }
   ],
   "source": [
    "df.columns"
   ]
  },
  {
   "cell_type": "code",
   "execution_count": 12,
   "metadata": {
    "execution": {
     "iopub.execute_input": "2020-12-25T17:43:04.334754Z",
     "iopub.status.busy": "2020-12-25T17:43:04.334259Z",
     "iopub.status.idle": "2020-12-25T17:43:04.339583Z",
     "shell.execute_reply": "2020-12-25T17:43:04.339050Z"
    },
    "papermill": {
     "duration": 0.037533,
     "end_time": "2020-12-25T17:43:04.339665",
     "exception": false,
     "start_time": "2020-12-25T17:43:04.302132",
     "status": "completed"
    },
    "tags": []
   },
   "outputs": [
    {
     "data": {
      "text/plain": [
       "array(['rice', 'maize', 'chickpea', 'kidneybeans', 'pigeonpeas',\n",
       "       'mothbeans', 'mungbean', 'blackgram', 'lentil', 'pomegranate',\n",
       "       'banana', 'mango', 'grapes', 'watermelon', 'muskmelon', 'apple',\n",
       "       'orange', 'papaya', 'coconut', 'cotton', 'jute', 'coffee'],\n",
       "      dtype=object)"
      ]
     },
     "execution_count": 12,
     "metadata": {},
     "output_type": "execute_result"
    }
   ],
   "source": [
    "df['label'].unique()"
   ]
  },
  {
   "cell_type": "code",
   "execution_count": 13,
   "metadata": {
    "execution": {
     "iopub.execute_input": "2020-12-25T17:43:04.406990Z",
     "iopub.status.busy": "2020-12-25T17:43:04.406182Z",
     "iopub.status.idle": "2020-12-25T17:43:04.409397Z",
     "shell.execute_reply": "2020-12-25T17:43:04.409896Z"
    },
    "papermill": {
     "duration": 0.039689,
     "end_time": "2020-12-25T17:43:04.410016",
     "exception": false,
     "start_time": "2020-12-25T17:43:04.370327",
     "status": "completed"
    },
    "tags": []
   },
   "outputs": [
    {
     "data": {
      "text/plain": [
       "N                int64\n",
       "P                int64\n",
       "K                int64\n",
       "temperature    float64\n",
       "humidity       float64\n",
       "ph             float64\n",
       "rainfall       float64\n",
       "label           object\n",
       "dtype: object"
      ]
     },
     "execution_count": 13,
     "metadata": {},
     "output_type": "execute_result"
    }
   ],
   "source": [
    "df.dtypes"
   ]
  },
  {
   "cell_type": "code",
   "execution_count": 14,
   "metadata": {
    "execution": {
     "iopub.execute_input": "2020-12-25T17:43:04.476169Z",
     "iopub.status.busy": "2020-12-25T17:43:04.475372Z",
     "iopub.status.idle": "2020-12-25T17:43:04.482662Z",
     "shell.execute_reply": "2020-12-25T17:43:04.483123Z"
    },
    "papermill": {
     "duration": 0.041845,
     "end_time": "2020-12-25T17:43:04.483247",
     "exception": false,
     "start_time": "2020-12-25T17:43:04.441402",
     "status": "completed"
    },
    "tags": []
   },
   "outputs": [
    {
     "data": {
      "text/plain": [
       "rice           100\n",
       "maize          100\n",
       "jute           100\n",
       "cotton         100\n",
       "coconut        100\n",
       "papaya         100\n",
       "orange         100\n",
       "apple          100\n",
       "muskmelon      100\n",
       "watermelon     100\n",
       "grapes         100\n",
       "mango          100\n",
       "banana         100\n",
       "pomegranate    100\n",
       "lentil         100\n",
       "blackgram      100\n",
       "mungbean       100\n",
       "mothbeans      100\n",
       "pigeonpeas     100\n",
       "kidneybeans    100\n",
       "chickpea       100\n",
       "coffee         100\n",
       "Name: label, dtype: int64"
      ]
     },
     "execution_count": 14,
     "metadata": {},
     "output_type": "execute_result"
    }
   ],
   "source": [
    "df['label'].value_counts()"
   ]
  },
  {
   "cell_type": "code",
   "execution_count": 15,
   "metadata": {
    "execution": {
     "iopub.execute_input": "2020-12-25T17:43:04.549902Z",
     "iopub.status.busy": "2020-12-25T17:43:04.549087Z",
     "iopub.status.idle": "2020-12-25T17:43:04.937999Z",
     "shell.execute_reply": "2020-12-25T17:43:04.938534Z"
    },
    "papermill": {
     "duration": 0.423688,
     "end_time": "2020-12-25T17:43:04.938685",
     "exception": false,
     "start_time": "2020-12-25T17:43:04.514997",
     "status": "completed"
    },
    "tags": []
   },
   "outputs": [
    {
     "data": {
      "text/plain": [
       "<AxesSubplot:>"
      ]
     },
     "execution_count": 15,
     "metadata": {},
     "output_type": "execute_result"
    },
    {
     "data": {
      "image/png": "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\n",
      "text/plain": [
       "<Figure size 432x288 with 2 Axes>"
      ]
     },
     "metadata": {
      "needs_background": "light"
     },
     "output_type": "display_data"
    }
   ],
   "source": [
    "sns.heatmap(df.corr(),annot=True)"
   ]
  },
  {
   "cell_type": "markdown",
   "metadata": {
    "papermill": {
     "duration": 0.035621,
     "end_time": "2020-12-25T17:43:05.012300",
     "exception": false,
     "start_time": "2020-12-25T17:43:04.976679",
     "status": "completed"
    },
    "tags": []
   },
   "source": [
    "### Seperating features and target label"
   ]
  },
  {
   "cell_type": "code",
   "execution_count": 16,
   "metadata": {
    "execution": {
     "iopub.execute_input": "2020-12-25T17:43:05.082765Z",
     "iopub.status.busy": "2020-12-25T17:43:05.081946Z",
     "iopub.status.idle": "2020-12-25T17:43:05.087557Z",
     "shell.execute_reply": "2020-12-25T17:43:05.087949Z"
    },
    "papermill": {
     "duration": 0.041719,
     "end_time": "2020-12-25T17:43:05.088061",
     "exception": false,
     "start_time": "2020-12-25T17:43:05.046342",
     "status": "completed"
    },
    "tags": []
   },
   "outputs": [],
   "source": [
    "features = df[['N', 'P','K','temperature', 'humidity', 'ph', 'rainfall']]\n",
    "target = df['label']\n",
    "labels = df['label']"
   ]
  },
  {
   "cell_type": "code",
   "execution_count": 17,
   "metadata": {
    "execution": {
     "iopub.execute_input": "2020-12-25T17:43:05.157598Z",
     "iopub.status.busy": "2020-12-25T17:43:05.156803Z",
     "iopub.status.idle": "2020-12-25T17:43:05.160156Z",
     "shell.execute_reply": "2020-12-25T17:43:05.160598Z"
    },
    "papermill": {
     "duration": 0.03926,
     "end_time": "2020-12-25T17:43:05.160700",
     "exception": false,
     "start_time": "2020-12-25T17:43:05.121440",
     "status": "completed"
    },
    "tags": []
   },
   "outputs": [],
   "source": [
    "# Initializing empty lists to append all model's name and corresponding name\n",
    "acc = []\n",
    "model = []"
   ]
  },
  {
   "cell_type": "code",
   "execution_count": 18,
   "metadata": {
    "execution": {
     "iopub.execute_input": "2020-12-25T17:43:05.231176Z",
     "iopub.status.busy": "2020-12-25T17:43:05.230389Z",
     "iopub.status.idle": "2020-12-25T17:43:05.238764Z",
     "shell.execute_reply": "2020-12-25T17:43:05.239150Z"
    },
    "papermill": {
     "duration": 0.044985,
     "end_time": "2020-12-25T17:43:05.239276",
     "exception": false,
     "start_time": "2020-12-25T17:43:05.194291",
     "status": "completed"
    },
    "tags": []
   },
   "outputs": [],
   "source": [
    "# Splitting into train and test data\n",
    "\n",
    "from sklearn.model_selection import train_test_split\n",
    "Xtrain, Xtest, Ytrain, Ytest = train_test_split(features,target,test_size = 0.2,random_state =2)"
   ]
  },
  {
   "cell_type": "markdown",
   "metadata": {
    "papermill": {
     "duration": 0.033437,
     "end_time": "2020-12-25T17:43:05.306117",
     "exception": false,
     "start_time": "2020-12-25T17:43:05.272680",
     "status": "completed"
    },
    "tags": []
   },
   "source": [
    "# Decision Tree"
   ]
  },
  {
   "cell_type": "code",
   "execution_count": 19,
   "metadata": {
    "execution": {
     "iopub.execute_input": "2020-12-25T17:43:05.382104Z",
     "iopub.status.busy": "2020-12-25T17:43:05.381326Z",
     "iopub.status.idle": "2020-12-25T17:43:05.438864Z",
     "shell.execute_reply": "2020-12-25T17:43:05.439274Z"
    },
    "papermill": {
     "duration": 0.093881,
     "end_time": "2020-12-25T17:43:05.439389",
     "exception": false,
     "start_time": "2020-12-25T17:43:05.345508",
     "status": "completed"
    },
    "tags": []
   },
   "outputs": [
    {
     "name": "stdout",
     "output_type": "stream",
     "text": [
      "DecisionTrees's Accuracy is:  90.0\n",
      "              precision    recall  f1-score   support\n",
      "\n",
      "       apple       1.00      1.00      1.00        13\n",
      "      banana       1.00      1.00      1.00        17\n",
      "   blackgram       0.59      1.00      0.74        16\n",
      "    chickpea       1.00      1.00      1.00        21\n",
      "     coconut       0.91      1.00      0.95        21\n",
      "      coffee       1.00      1.00      1.00        22\n",
      "      cotton       1.00      1.00      1.00        20\n",
      "      grapes       1.00      1.00      1.00        18\n",
      "        jute       0.74      0.93      0.83        28\n",
      " kidneybeans       0.00      0.00      0.00        14\n",
      "      lentil       0.68      1.00      0.81        23\n",
      "       maize       1.00      1.00      1.00        21\n",
      "       mango       1.00      1.00      1.00        26\n",
      "   mothbeans       0.00      0.00      0.00        19\n",
      "    mungbean       1.00      1.00      1.00        24\n",
      "   muskmelon       1.00      1.00      1.00        23\n",
      "      orange       1.00      1.00      1.00        29\n",
      "      papaya       1.00      0.84      0.91        19\n",
      "  pigeonpeas       0.62      1.00      0.77        18\n",
      " pomegranate       1.00      1.00      1.00        17\n",
      "        rice       1.00      0.62      0.77        16\n",
      "  watermelon       1.00      1.00      1.00        15\n",
      "\n",
      "    accuracy                           0.90       440\n",
      "   macro avg       0.84      0.88      0.85       440\n",
      "weighted avg       0.86      0.90      0.87       440\n",
      "\n"
     ]
    }
   ],
   "source": [
    "from sklearn.tree import DecisionTreeClassifier\n",
    "\n",
    "DecisionTree = DecisionTreeClassifier(criterion=\"entropy\",random_state=2,max_depth=5)\n",
    "\n",
    "DecisionTree.fit(Xtrain,Ytrain)\n",
    "\n",
    "predicted_values = DecisionTree.predict(Xtest)\n",
    "x = metrics.accuracy_score(Ytest, predicted_values)\n",
    "acc.append(x)\n",
    "model.append('Decision Tree')\n",
    "print(\"DecisionTrees's Accuracy is: \", x*100)\n",
    "\n",
    "print(classification_report(Ytest,predicted_values))"
   ]
  },
  {
   "cell_type": "code",
   "execution_count": 20,
   "metadata": {
    "execution": {
     "iopub.execute_input": "2020-12-25T17:43:05.511318Z",
     "iopub.status.busy": "2020-12-25T17:43:05.510628Z",
     "iopub.status.idle": "2020-12-25T17:43:05.513354Z",
     "shell.execute_reply": "2020-12-25T17:43:05.512823Z"
    },
    "papermill": {
     "duration": 0.039972,
     "end_time": "2020-12-25T17:43:05.513438",
     "exception": false,
     "start_time": "2020-12-25T17:43:05.473466",
     "status": "completed"
    },
    "tags": []
   },
   "outputs": [],
   "source": [
    "from sklearn.model_selection import cross_val_score"
   ]
  },
  {
   "cell_type": "code",
   "execution_count": 21,
   "metadata": {
    "execution": {
     "iopub.execute_input": "2020-12-25T17:43:05.589874Z",
     "iopub.status.busy": "2020-12-25T17:43:05.589360Z",
     "iopub.status.idle": "2020-12-25T17:43:05.718348Z",
     "shell.execute_reply": "2020-12-25T17:43:05.718933Z"
    },
    "papermill": {
     "duration": 0.171655,
     "end_time": "2020-12-25T17:43:05.719081",
     "exception": false,
     "start_time": "2020-12-25T17:43:05.547426",
     "status": "completed"
    },
    "tags": []
   },
   "outputs": [],
   "source": [
    "# Cross validation score (Decision Tree)\n",
    "score = cross_val_score(DecisionTree, features, target,cv=5)"
   ]
  },
  {
   "cell_type": "code",
   "execution_count": 22,
   "metadata": {
    "execution": {
     "iopub.execute_input": "2020-12-25T17:43:05.798346Z",
     "iopub.status.busy": "2020-12-25T17:43:05.797578Z",
     "iopub.status.idle": "2020-12-25T17:43:05.801313Z",
     "shell.execute_reply": "2020-12-25T17:43:05.800784Z"
    },
    "papermill": {
     "duration": 0.044583,
     "end_time": "2020-12-25T17:43:05.801407",
     "exception": false,
     "start_time": "2020-12-25T17:43:05.756824",
     "status": "completed"
    },
    "tags": []
   },
   "outputs": [
    {
     "data": {
      "text/plain": [
       "array([0.93636364, 0.90909091, 0.91818182, 0.87045455, 0.93636364])"
      ]
     },
     "execution_count": 22,
     "metadata": {},
     "output_type": "execute_result"
    }
   ],
   "source": [
    "score"
   ]
  },
  {
   "cell_type": "markdown",
   "metadata": {
    "papermill": {
     "duration": 0.0343,
     "end_time": "2020-12-25T17:43:05.870225",
     "exception": false,
     "start_time": "2020-12-25T17:43:05.835925",
     "status": "completed"
    },
    "tags": []
   },
   "source": [
    "### Saving trained Decision Tree model"
   ]
  },
  {
   "cell_type": "code",
   "execution_count": 23,
   "metadata": {
    "execution": {
     "iopub.execute_input": "2020-12-25T17:43:05.945134Z",
     "iopub.status.busy": "2020-12-25T17:43:05.944323Z",
     "iopub.status.idle": "2020-12-25T17:43:05.947948Z",
     "shell.execute_reply": "2020-12-25T17:43:05.947482Z"
    },
    "papermill": {
     "duration": 0.042144,
     "end_time": "2020-12-25T17:43:05.948033",
     "exception": false,
     "start_time": "2020-12-25T17:43:05.905889",
     "status": "completed"
    },
    "tags": []
   },
   "outputs": [],
   "source": [
    "import pickle\n",
    "# Dump the trained Naive Bayes classifier with Pickle\n",
    "DT_pkl_filename = 'DecisionTree.pkl'\n",
    "# Open the file to save as pkl file\n",
    "DT_Model_pkl = open(DT_pkl_filename, 'wb')\n",
    "pickle.dump(DecisionTree, DT_Model_pkl)\n",
    "# Close the pickle instances\n",
    "DT_Model_pkl.close()"
   ]
  },
  {
   "cell_type": "markdown",
   "metadata": {
    "papermill": {
     "duration": 0.034983,
     "end_time": "2020-12-25T17:43:06.017890",
     "exception": false,
     "start_time": "2020-12-25T17:43:05.982907",
     "status": "completed"
    },
    "tags": []
   },
   "source": [
    "# Guassian Naive Bayes"
   ]
  },
  {
   "cell_type": "code",
   "execution_count": 24,
   "metadata": {
    "execution": {
     "iopub.execute_input": "2020-12-25T17:43:06.092862Z",
     "iopub.status.busy": "2020-12-25T17:43:06.092358Z",
     "iopub.status.idle": "2020-12-25T17:43:06.123423Z",
     "shell.execute_reply": "2020-12-25T17:43:06.122645Z"
    },
    "papermill": {
     "duration": 0.070847,
     "end_time": "2020-12-25T17:43:06.123543",
     "exception": false,
     "start_time": "2020-12-25T17:43:06.052696",
     "status": "completed"
    },
    "tags": []
   },
   "outputs": [
    {
     "name": "stdout",
     "output_type": "stream",
     "text": [
      "Naive Bayes's Accuracy is:  0.990909090909091\n",
      "              precision    recall  f1-score   support\n",
      "\n",
      "       apple       1.00      1.00      1.00        13\n",
      "      banana       1.00      1.00      1.00        17\n",
      "   blackgram       1.00      1.00      1.00        16\n",
      "    chickpea       1.00      1.00      1.00        21\n",
      "     coconut       1.00      1.00      1.00        21\n",
      "      coffee       1.00      1.00      1.00        22\n",
      "      cotton       1.00      1.00      1.00        20\n",
      "      grapes       1.00      1.00      1.00        18\n",
      "        jute       0.88      1.00      0.93        28\n",
      " kidneybeans       1.00      1.00      1.00        14\n",
      "      lentil       1.00      1.00      1.00        23\n",
      "       maize       1.00      1.00      1.00        21\n",
      "       mango       1.00      1.00      1.00        26\n",
      "   mothbeans       1.00      1.00      1.00        19\n",
      "    mungbean       1.00      1.00      1.00        24\n",
      "   muskmelon       1.00      1.00      1.00        23\n",
      "      orange       1.00      1.00      1.00        29\n",
      "      papaya       1.00      1.00      1.00        19\n",
      "  pigeonpeas       1.00      1.00      1.00        18\n",
      " pomegranate       1.00      1.00      1.00        17\n",
      "        rice       1.00      0.75      0.86        16\n",
      "  watermelon       1.00      1.00      1.00        15\n",
      "\n",
      "    accuracy                           0.99       440\n",
      "   macro avg       0.99      0.99      0.99       440\n",
      "weighted avg       0.99      0.99      0.99       440\n",
      "\n"
     ]
    }
   ],
   "source": [
    "from sklearn.naive_bayes import GaussianNB\n",
    "\n",
    "NaiveBayes = GaussianNB()\n",
    "\n",
    "NaiveBayes.fit(Xtrain,Ytrain)\n",
    "\n",
    "predicted_values = NaiveBayes.predict(Xtest)\n",
    "x = metrics.accuracy_score(Ytest, predicted_values)\n",
    "acc.append(x)\n",
    "model.append('Naive Bayes')\n",
    "print(\"Naive Bayes's Accuracy is: \", x)\n",
    "\n",
    "print(classification_report(Ytest,predicted_values))"
   ]
  },
  {
   "cell_type": "code",
   "execution_count": 25,
   "metadata": {
    "execution": {
     "iopub.execute_input": "2020-12-25T17:43:06.203190Z",
     "iopub.status.busy": "2020-12-25T17:43:06.202681Z",
     "iopub.status.idle": "2020-12-25T17:43:06.261683Z",
     "shell.execute_reply": "2020-12-25T17:43:06.261166Z"
    },
    "papermill": {
     "duration": 0.102386,
     "end_time": "2020-12-25T17:43:06.261768",
     "exception": false,
     "start_time": "2020-12-25T17:43:06.159382",
     "status": "completed"
    },
    "tags": []
   },
   "outputs": [
    {
     "data": {
      "text/plain": [
       "array([0.99772727, 0.99545455, 0.99545455, 0.99545455, 0.99090909])"
      ]
     },
     "execution_count": 25,
     "metadata": {},
     "output_type": "execute_result"
    }
   ],
   "source": [
    "# Cross validation score (NaiveBayes)\n",
    "score = cross_val_score(NaiveBayes,features,target,cv=5)\n",
    "score"
   ]
  },
  {
   "cell_type": "markdown",
   "metadata": {
    "papermill": {
     "duration": 0.036802,
     "end_time": "2020-12-25T17:43:06.334100",
     "exception": false,
     "start_time": "2020-12-25T17:43:06.297298",
     "status": "completed"
    },
    "tags": []
   },
   "source": [
    "### Saving trained Guassian Naive Bayes model"
   ]
  },
  {
   "cell_type": "code",
   "execution_count": 26,
   "metadata": {
    "execution": {
     "iopub.execute_input": "2020-12-25T17:43:06.410122Z",
     "iopub.status.busy": "2020-12-25T17:43:06.409274Z",
     "iopub.status.idle": "2020-12-25T17:43:06.412458Z",
     "shell.execute_reply": "2020-12-25T17:43:06.412833Z"
    },
    "papermill": {
     "duration": 0.04339,
     "end_time": "2020-12-25T17:43:06.412936",
     "exception": false,
     "start_time": "2020-12-25T17:43:06.369546",
     "status": "completed"
    },
    "tags": []
   },
   "outputs": [],
   "source": [
    "import pickle\n",
    "# Dump the trained Naive Bayes classifier with Pickle\n",
    "NB_pkl_filename = 'NBClassifier.pkl'\n",
    "# Open the file to save as pkl file\n",
    "NB_Model_pkl = open(NB_pkl_filename, 'wb')\n",
    "pickle.dump(NaiveBayes, NB_Model_pkl)\n",
    "# Close the pickle instances\n",
    "NB_Model_pkl.close()"
   ]
  },
  {
   "cell_type": "markdown",
   "metadata": {
    "papermill": {
     "duration": 0.035345,
     "end_time": "2020-12-25T17:43:06.484035",
     "exception": false,
     "start_time": "2020-12-25T17:43:06.448690",
     "status": "completed"
    },
    "tags": []
   },
   "source": []
  },
  {
   "cell_type": "code",
   "execution_count": null,
   "metadata": {
    "execution": {
     "iopub.execute_input": "2020-12-25T17:43:06.565060Z",
     "iopub.status.busy": "2020-12-25T17:43:06.564230Z",
     "iopub.status.idle": "2020-12-25T17:43:06.909287Z",
     "shell.execute_reply": "2020-12-25T17:43:06.908536Z"
    },
    "papermill": {
     "duration": 0.389805,
     "end_time": "2020-12-25T17:43:06.909391",
     "exception": false,
     "start_time": "2020-12-25T17:43:06.519586",
     "status": "completed"
    },
    "tags": []
   },
   "outputs": [],
   "source": []
  },
  {
   "cell_type": "code",
   "execution_count": null,
   "metadata": {
    "execution": {
     "iopub.execute_input": "2020-12-25T17:43:06.990224Z",
     "iopub.status.busy": "2020-12-25T17:43:06.989697Z",
     "iopub.status.idle": "2020-12-25T17:43:08.573874Z",
     "shell.execute_reply": "2020-12-25T17:43:08.573394Z"
    },
    "papermill": {
     "duration": 1.628093,
     "end_time": "2020-12-25T17:43:08.573970",
     "exception": false,
     "start_time": "2020-12-25T17:43:06.945877",
     "status": "completed"
    },
    "tags": []
   },
   "outputs": [],
   "source": []
  },
  {
   "cell_type": "markdown",
   "metadata": {
    "papermill": {
     "duration": 0.036295,
     "end_time": "2020-12-25T17:43:08.647681",
     "exception": false,
     "start_time": "2020-12-25T17:43:08.611386",
     "status": "completed"
    },
    "tags": []
   },
   "source": [
    "# Logistic Regression"
   ]
  },
  {
   "cell_type": "code",
   "execution_count": 27,
   "metadata": {
    "execution": {
     "iopub.execute_input": "2020-12-25T17:43:08.728752Z",
     "iopub.status.busy": "2020-12-25T17:43:08.728228Z",
     "iopub.status.idle": "2020-12-25T17:43:08.990800Z",
     "shell.execute_reply": "2020-12-25T17:43:08.991758Z"
    },
    "papermill": {
     "duration": 0.308032,
     "end_time": "2020-12-25T17:43:08.991925",
     "exception": false,
     "start_time": "2020-12-25T17:43:08.683893",
     "status": "completed"
    },
    "tags": []
   },
   "outputs": [
    {
     "name": "stdout",
     "output_type": "stream",
     "text": [
      "Logistic Regression's Accuracy is:  0.9522727272727273\n",
      "              precision    recall  f1-score   support\n",
      "\n",
      "       apple       1.00      1.00      1.00        13\n",
      "      banana       1.00      1.00      1.00        17\n",
      "   blackgram       0.86      0.75      0.80        16\n",
      "    chickpea       1.00      1.00      1.00        21\n",
      "     coconut       1.00      1.00      1.00        21\n",
      "      coffee       1.00      1.00      1.00        22\n",
      "      cotton       0.86      0.90      0.88        20\n",
      "      grapes       1.00      1.00      1.00        18\n",
      "        jute       0.84      0.93      0.88        28\n",
      " kidneybeans       1.00      1.00      1.00        14\n",
      "      lentil       0.88      1.00      0.94        23\n",
      "       maize       0.90      0.86      0.88        21\n",
      "       mango       0.96      1.00      0.98        26\n",
      "   mothbeans       0.84      0.84      0.84        19\n",
      "    mungbean       1.00      0.96      0.98        24\n",
      "   muskmelon       1.00      1.00      1.00        23\n",
      "      orange       1.00      1.00      1.00        29\n",
      "      papaya       1.00      0.95      0.97        19\n",
      "  pigeonpeas       1.00      1.00      1.00        18\n",
      " pomegranate       1.00      1.00      1.00        17\n",
      "        rice       0.85      0.69      0.76        16\n",
      "  watermelon       1.00      1.00      1.00        15\n",
      "\n",
      "    accuracy                           0.95       440\n",
      "   macro avg       0.95      0.95      0.95       440\n",
      "weighted avg       0.95      0.95      0.95       440\n",
      "\n"
     ]
    }
   ],
   "source": [
    "from sklearn.linear_model import LogisticRegression\n",
    "\n",
    "LogReg = LogisticRegression(random_state=2)\n",
    "\n",
    "LogReg.fit(Xtrain,Ytrain)\n",
    "\n",
    "predicted_values = LogReg.predict(Xtest)\n",
    "\n",
    "x = metrics.accuracy_score(Ytest, predicted_values)\n",
    "acc.append(x)\n",
    "model.append('Logistic Regression')\n",
    "print(\"Logistic Regression's Accuracy is: \", x)\n",
    "\n",
    "print(classification_report(Ytest,predicted_values))"
   ]
  },
  {
   "cell_type": "code",
   "execution_count": 28,
   "metadata": {
    "execution": {
     "iopub.execute_input": "2020-12-25T17:43:09.075523Z",
     "iopub.status.busy": "2020-12-25T17:43:09.074734Z",
     "iopub.status.idle": "2020-12-25T17:43:10.325402Z",
     "shell.execute_reply": "2020-12-25T17:43:10.324751Z"
    },
    "papermill": {
     "duration": 1.295368,
     "end_time": "2020-12-25T17:43:10.325521",
     "exception": false,
     "start_time": "2020-12-25T17:43:09.030153",
     "status": "completed"
    },
    "tags": []
   },
   "outputs": [
    {
     "data": {
      "text/plain": [
       "array([0.95      , 0.96590909, 0.94772727, 0.96590909, 0.94318182])"
      ]
     },
     "execution_count": 28,
     "metadata": {},
     "output_type": "execute_result"
    }
   ],
   "source": [
    "# Cross validation score (Logistic Regression)\n",
    "score = cross_val_score(LogReg,features,target,cv=5)\n",
    "score"
   ]
  },
  {
   "cell_type": "markdown",
   "metadata": {
    "papermill": {
     "duration": 0.036969,
     "end_time": "2020-12-25T17:43:10.400190",
     "exception": false,
     "start_time": "2020-12-25T17:43:10.363221",
     "status": "completed"
    },
    "tags": []
   },
   "source": [
    "### Saving trained Logistic Regression model"
   ]
  },
  {
   "cell_type": "code",
   "execution_count": 29,
   "metadata": {
    "execution": {
     "iopub.execute_input": "2020-12-25T17:43:10.479119Z",
     "iopub.status.busy": "2020-12-25T17:43:10.478510Z",
     "iopub.status.idle": "2020-12-25T17:43:10.481619Z",
     "shell.execute_reply": "2020-12-25T17:43:10.481049Z"
    },
    "papermill": {
     "duration": 0.044327,
     "end_time": "2020-12-25T17:43:10.481704",
     "exception": false,
     "start_time": "2020-12-25T17:43:10.437377",
     "status": "completed"
    },
    "tags": []
   },
   "outputs": [],
   "source": [
    "import pickle\n",
    "# Dump the trained Naive Bayes classifier with Pickle\n",
    "LR_pkl_filename = 'LogisticRegression.pkl'\n",
    "# Open the file to save as pkl file\n",
    "LR_Model_pkl = open(DT_pkl_filename, 'wb')\n",
    "pickle.dump(LogReg, LR_Model_pkl)\n",
    "# Close the pickle instances\n",
    "LR_Model_pkl.close()"
   ]
  },
  {
   "cell_type": "markdown",
   "metadata": {
    "papermill": {
     "duration": 0.037258,
     "end_time": "2020-12-25T17:43:10.556881",
     "exception": false,
     "start_time": "2020-12-25T17:43:10.519623",
     "status": "completed"
    },
    "tags": []
   },
   "source": [
    "# Random Forest"
   ]
  },
  {
   "cell_type": "code",
   "execution_count": 30,
   "metadata": {
    "execution": {
     "iopub.execute_input": "2020-12-25T17:43:10.637176Z",
     "iopub.status.busy": "2020-12-25T17:43:10.636618Z",
     "iopub.status.idle": "2020-12-25T17:43:10.758714Z",
     "shell.execute_reply": "2020-12-25T17:43:10.758234Z"
    },
    "papermill": {
     "duration": 0.164699,
     "end_time": "2020-12-25T17:43:10.758807",
     "exception": false,
     "start_time": "2020-12-25T17:43:10.594108",
     "status": "completed"
    },
    "tags": []
   },
   "outputs": [
    {
     "name": "stdout",
     "output_type": "stream",
     "text": [
      "RF's Accuracy is:  0.990909090909091\n",
      "              precision    recall  f1-score   support\n",
      "\n",
      "       apple       1.00      1.00      1.00        13\n",
      "      banana       1.00      1.00      1.00        17\n",
      "   blackgram       0.94      1.00      0.97        16\n",
      "    chickpea       1.00      1.00      1.00        21\n",
      "     coconut       1.00      1.00      1.00        21\n",
      "      coffee       1.00      1.00      1.00        22\n",
      "      cotton       1.00      1.00      1.00        20\n",
      "      grapes       1.00      1.00      1.00        18\n",
      "        jute       0.90      1.00      0.95        28\n",
      " kidneybeans       1.00      1.00      1.00        14\n",
      "      lentil       1.00      1.00      1.00        23\n",
      "       maize       1.00      1.00      1.00        21\n",
      "       mango       1.00      1.00      1.00        26\n",
      "   mothbeans       1.00      0.95      0.97        19\n",
      "    mungbean       1.00      1.00      1.00        24\n",
      "   muskmelon       1.00      1.00      1.00        23\n",
      "      orange       1.00      1.00      1.00        29\n",
      "      papaya       1.00      1.00      1.00        19\n",
      "  pigeonpeas       1.00      1.00      1.00        18\n",
      " pomegranate       1.00      1.00      1.00        17\n",
      "        rice       1.00      0.81      0.90        16\n",
      "  watermelon       1.00      1.00      1.00        15\n",
      "\n",
      "    accuracy                           0.99       440\n",
      "   macro avg       0.99      0.99      0.99       440\n",
      "weighted avg       0.99      0.99      0.99       440\n",
      "\n"
     ]
    }
   ],
   "source": [
    "from sklearn.ensemble import RandomForestClassifier\n",
    "\n",
    "RF = RandomForestClassifier(n_estimators=20, random_state=0)\n",
    "RF.fit(Xtrain,Ytrain)\n",
    "\n",
    "predicted_values = RF.predict(Xtest)\n",
    "\n",
    "x = metrics.accuracy_score(Ytest, predicted_values)\n",
    "acc.append(x)\n",
    "model.append('RF')\n",
    "print(\"RF's Accuracy is: \", x)\n",
    "\n",
    "print(classification_report(Ytest,predicted_values))"
   ]
  },
  {
   "cell_type": "code",
   "execution_count": 31,
   "metadata": {
    "execution": {
     "iopub.execute_input": "2020-12-25T17:43:10.844782Z",
     "iopub.status.busy": "2020-12-25T17:43:10.843900Z",
     "iopub.status.idle": "2020-12-25T17:43:11.231113Z",
     "shell.execute_reply": "2020-12-25T17:43:11.231511Z"
    },
    "papermill": {
     "duration": 0.434587,
     "end_time": "2020-12-25T17:43:11.231643",
     "exception": false,
     "start_time": "2020-12-25T17:43:10.797056",
     "status": "completed"
    },
    "tags": []
   },
   "outputs": [
    {
     "data": {
      "text/plain": [
       "array([0.99772727, 0.99545455, 0.99772727, 0.99318182, 0.98863636])"
      ]
     },
     "execution_count": 31,
     "metadata": {},
     "output_type": "execute_result"
    }
   ],
   "source": [
    "# Cross validation score (Random Forest)\n",
    "score = cross_val_score(RF,features,target,cv=5)\n",
    "score"
   ]
  },
  {
   "cell_type": "markdown",
   "metadata": {
    "papermill": {
     "duration": 0.038083,
     "end_time": "2020-12-25T17:43:11.308318",
     "exception": false,
     "start_time": "2020-12-25T17:43:11.270235",
     "status": "completed"
    },
    "tags": []
   },
   "source": [
    "### Saving trained Random Forest model"
   ]
  },
  {
   "cell_type": "code",
   "execution_count": 32,
   "metadata": {
    "execution": {
     "iopub.execute_input": "2020-12-25T17:43:11.390665Z",
     "iopub.status.busy": "2020-12-25T17:43:11.389962Z",
     "iopub.status.idle": "2020-12-25T17:43:11.392903Z",
     "shell.execute_reply": "2020-12-25T17:43:11.393320Z"
    },
    "papermill": {
     "duration": 0.046946,
     "end_time": "2020-12-25T17:43:11.393431",
     "exception": false,
     "start_time": "2020-12-25T17:43:11.346485",
     "status": "completed"
    },
    "tags": []
   },
   "outputs": [],
   "source": [
    "import pickle\n",
    "# Dump the trained Naive Bayes classifier with Pickle\n",
    "RF_pkl_filename = 'RandomForest.pkl'\n",
    "# Open the file to save as pkl file\n",
    "RF_Model_pkl = open(RF_pkl_filename, 'wb')\n",
    "pickle.dump(RF, RF_Model_pkl)\n",
    "# Close the pickle instances\n",
    "RF_Model_pkl.close()"
   ]
  },
  {
   "cell_type": "markdown",
   "metadata": {
    "papermill": {
     "duration": 0.041321,
     "end_time": "2020-12-25T17:43:15.359816",
     "exception": false,
     "start_time": "2020-12-25T17:43:15.318495",
     "status": "completed"
    },
    "tags": []
   },
   "source": [
    "## Accuracy Comparison"
   ]
  },
  {
   "cell_type": "code",
   "execution_count": 33,
   "metadata": {
    "execution": {
     "iopub.execute_input": "2020-12-25T17:43:15.441385Z",
     "iopub.status.busy": "2020-12-25T17:43:15.440884Z",
     "iopub.status.idle": "2020-12-25T17:43:15.581323Z",
     "shell.execute_reply": "2020-12-25T17:43:15.581831Z"
    },
    "papermill": {
     "duration": 0.182519,
     "end_time": "2020-12-25T17:43:15.581943",
     "exception": false,
     "start_time": "2020-12-25T17:43:15.399424",
     "status": "completed"
    },
    "tags": []
   },
   "outputs": [
    {
     "data": {
      "text/plain": [
       "<AxesSubplot:title={'center':'Accuracy Comparison'}, xlabel='Accuracy', ylabel='Algorithm'>"
      ]
     },
     "execution_count": 33,
     "metadata": {},
     "output_type": "execute_result"
    },
    {
     "data": {
      "image/png": "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\n",
      "text/plain": [
       "<Figure size 1000x500 with 1 Axes>"
      ]
     },
     "metadata": {
      "needs_background": "light"
     },
     "output_type": "display_data"
    }
   ],
   "source": [
    "plt.figure(figsize=[10,5],dpi = 100)\n",
    "plt.title('Accuracy Comparison')\n",
    "plt.xlabel('Accuracy')\n",
    "plt.ylabel('Algorithm')\n",
    "sns.barplot(x = acc,y = model,palette='dark')"
   ]
  },
  {
   "cell_type": "code",
   "execution_count": 34,
   "metadata": {
    "execution": {
     "iopub.execute_input": "2020-12-25T17:43:15.669060Z",
     "iopub.status.busy": "2020-12-25T17:43:15.668535Z",
     "iopub.status.idle": "2020-12-25T17:43:15.672705Z",
     "shell.execute_reply": "2020-12-25T17:43:15.672183Z"
    },
    "papermill": {
     "duration": 0.050176,
     "end_time": "2020-12-25T17:43:15.672789",
     "exception": false,
     "start_time": "2020-12-25T17:43:15.622613",
     "status": "completed"
    },
    "tags": []
   },
   "outputs": [
    {
     "name": "stdout",
     "output_type": "stream",
     "text": [
      "Decision Tree --> 0.9\n",
      "Naive Bayes --> 0.990909090909091\n",
      "Logistic Regression --> 0.9522727272727273\n",
      "RF --> 0.990909090909091\n"
     ]
    }
   ],
   "source": [
    "accuracy_models = dict(zip(model, acc))\n",
    "for k, v in accuracy_models.items():\n",
    "    print (k, '-->', v)"
   ]
  },
  {
   "cell_type": "markdown",
   "metadata": {
    "papermill": {
     "duration": 0.041952,
     "end_time": "2020-12-25T17:43:15.756950",
     "exception": false,
     "start_time": "2020-12-25T17:43:15.714998",
     "status": "completed"
    },
    "tags": []
   },
   "source": [
    "## Making a prediction"
   ]
  },
  {
   "cell_type": "code",
   "execution_count": 35,
   "metadata": {
    "execution": {
     "iopub.execute_input": "2020-12-25T17:43:15.847402Z",
     "iopub.status.busy": "2020-12-25T17:43:15.846830Z",
     "iopub.status.idle": "2020-12-25T17:43:15.850942Z",
     "shell.execute_reply": "2020-12-25T17:43:15.851479Z"
    },
    "papermill": {
     "duration": 0.051889,
     "end_time": "2020-12-25T17:43:15.851583",
     "exception": false,
     "start_time": "2020-12-25T17:43:15.799694",
     "status": "completed"
    },
    "tags": []
   },
   "outputs": [
    {
     "name": "stdout",
     "output_type": "stream",
     "text": [
      "['coffee']\n"
     ]
    }
   ],
   "source": [
    "data = np.array([[104,18, 30, 23.603016, 60.3, 6.7, 140.91]])\n",
    "prediction = RF.predict(data)\n",
    "print(prediction)"
   ]
  },
  {
   "cell_type": "code",
   "execution_count": 36,
   "metadata": {
    "execution": {
     "iopub.execute_input": "2020-12-25T17:43:15.937084Z",
     "iopub.status.busy": "2020-12-25T17:43:15.936591Z",
     "iopub.status.idle": "2020-12-25T17:43:15.943917Z",
     "shell.execute_reply": "2020-12-25T17:43:15.944404Z"
    },
    "papermill": {
     "duration": 0.051262,
     "end_time": "2020-12-25T17:43:15.944514",
     "exception": false,
     "start_time": "2020-12-25T17:43:15.893252",
     "status": "completed"
    },
    "tags": []
   },
   "outputs": [
    {
     "name": "stdout",
     "output_type": "stream",
     "text": [
      "['jute']\n"
     ]
    }
   ],
   "source": [
    "data = np.array([[83, 45, 60, 28, 70.3, 7.0, 150.9]])\n",
    "prediction = RF.predict(data)\n",
    "print(prediction)"
   ]
  },
  {
   "cell_type": "code",
   "execution_count": null,
   "metadata": {},
   "outputs": [],
   "source": []
  }
 ],
 "metadata": {
  "kernelspec": {
   "display_name": "Python 3 (ipykernel)",
   "language": "python",
   "name": "python3"
  },
  "language_info": {
   "codemirror_mode": {
    "name": "ipython",
    "version": 3
   },
   "file_extension": ".py",
   "mimetype": "text/x-python",
   "name": "python",
   "nbconvert_exporter": "python",
   "pygments_lexer": "ipython3",
   "version": "3.9.6"
  },
  "papermill": {
   "duration": 18.192047,
   "end_time": "2020-12-25T17:43:16.257975",
   "environment_variables": {},
   "exception": null,
   "input_path": "__notebook__.ipynb",
   "output_path": "__notebook__.ipynb",
   "parameters": {},
   "start_time": "2020-12-25T17:42:58.065928",
   "version": "2.1.0"
  }
 },
 "nbformat": 4,
 "nbformat_minor": 4
}
